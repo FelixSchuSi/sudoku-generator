{
 "cells": [
  {
   "cell_type": "code",
   "execution_count": 10,
   "metadata": {},
   "outputs": [],
   "source": [
    "from qiskit import QuantumCircuit, execute, ClassicalRegister, QuantumRegister\n",
    "from qiskit.tools.jupyter import *\n",
    "from qiskit.visualization import *\n",
    "from time import process_time\n",
    "from qiskit_aer import AerSimulator\n",
    "import numpy as np\n"
   ]
  },
  {
   "cell_type": "code",
   "execution_count": 11,
   "metadata": {},
   "outputs": [
    {
     "name": "stdout",
     "output_type": "stream",
     "text": [
      "The autoreload extension is already loaded. To reload it, use:\n",
      "  %reload_ext autoreload\n"
     ]
    }
   ],
   "source": [
    "# Alle selbst entwickelten python module sollen automatisch\n",
    "# neu importiert werden, wenn sie verwendet werden.\n",
    "%load_ext autoreload\n",
    "%autoreload 2 \n",
    "from src.oracle import simple_oracle\n",
    "from src.diffusor import initialize_blanks, initialize_blanks_inverse\n",
    "from src.request_to_sudoku_board import request_to_sudoku_board\n",
    "from src.qubit_registry import CubitRegisty"
   ]
  },
  {
   "cell_type": "code",
   "execution_count": 12,
   "metadata": {},
   "outputs": [],
   "source": [
    "def is_in_same_block(x1, y1, x2, y2, board_size):\n",
    "    block_size = int(np.sqrt(board_size))\n",
    "    return x1 // block_size == x2 // block_size and y1 // block_size == y2 // block_size   \n"
   ]
  },
  {
   "cell_type": "code",
   "execution_count": 13,
   "metadata": {},
   "outputs": [],
   "source": [
    "import math\n",
    "\n",
    "\n",
    "def get_candidates(sudoku_board):\n",
    "    \"\"\"\n",
    "    Berechnet mögliche Werte für die Lücken im Sudoku Boad.\n",
    "    Returnt eine List mit den möglichen Werten für die Lücken.\n",
    "\n",
    "    Beispiel:\n",
    "        [[3], [1, 3], [2, 3], [3], [2, 3], [3], [3]]\n",
    "        In der ersten Lücke ist mit 3 zu befüllen,\n",
    "        in der zweiten Lücke passen 1 und 3.\n",
    "    \"\"\"\n",
    "    candidates = []\n",
    "    for i in range(len(sudoku_board)):\n",
    "        for j in range(len(sudoku_board[0])):\n",
    "            if sudoku_board[i][j] != 0:\n",
    "                continue\n",
    "            tmp = []\n",
    "            for possible_value in range(1, len(sudoku_board)+1):\n",
    "                is_possible_value = True\n",
    "                for row in range(len(sudoku_board)):\n",
    "                    if sudoku_board[row][j] == possible_value:\n",
    "                        is_possible_value = False\n",
    "                for col in range(len(sudoku_board)):\n",
    "                    if sudoku_board[i][col] == possible_value:\n",
    "                        is_possible_value = False\n",
    "                \n",
    "                if math.sqrt(len(sudoku_board)).is_integer():\n",
    "                    for x in range(len(sudoku_board)):\n",
    "                        for y in range(len(sudoku_board)):\n",
    "                            if not is_in_same_block(i, j, x, y, len(sudoku_board)):\n",
    "                                continue\n",
    "                            if sudoku_board[x][y] == possible_value:\n",
    "                                is_possible_value = False\n",
    "                if is_possible_value:\n",
    "                    tmp.append(possible_value)\n",
    "            candidates.append(tmp)\n",
    "    return candidates\n",
    "\n"
   ]
  },
  {
   "cell_type": "code",
   "execution_count": 14,
   "metadata": {},
   "outputs": [],
   "source": [
    "def create_edges_from_sudoku_board(sudoku_board):\n",
    "    current_gap_index = 0\n",
    "    existing_nodes = []\n",
    "    edges = []\n",
    "    for rowIndex, row in enumerate(sudoku_board):\n",
    "        for colIndex, cell in enumerate(row):\n",
    "            if cell != 0:\n",
    "                continue\n",
    "            existing_nodes.append(\n",
    "                {\"gap_index\": current_gap_index, \"y\": rowIndex, \"x\": colIndex}\n",
    "            )\n",
    "            current_gap_index = current_gap_index + 1\n",
    "\n",
    "    has_quadrants = math.sqrt(len(sudoku_board)).is_integer()\n",
    "\n",
    "    for node in existing_nodes:\n",
    "        for other_node in existing_nodes:\n",
    "            if node[\"gap_index\"] == other_node[\"gap_index\"]:\n",
    "                continue\n",
    "            # Lücken in derselben Zeile finden\n",
    "            if node[\"y\"] == other_node[\"y\"]:\n",
    "                # ist diese Kante schon anders herum erfasst worden?\n",
    "                if [other_node[\"gap_index\"], node[\"gap_index\"]] not in edges:\n",
    "                    edges.append([node[\"gap_index\"], other_node[\"gap_index\"]])\n",
    "            # Lücken in derselben Spalte finden\n",
    "            if node[\"x\"] == other_node[\"x\"]:\n",
    "                # ist diese Kante schon anders herum erfasst worden?\n",
    "                if [other_node[\"gap_index\"], node[\"gap_index\"]] not in edges:\n",
    "                    edges.append([node[\"gap_index\"], other_node[\"gap_index\"]])\n",
    "\n",
    "            # Add edges for quadrants if quadrants exist\n",
    "            if has_quadrants and is_in_same_block(\n",
    "                node[\"y\"], node[\"x\"], other_node[\"y\"], other_node[\"x\"], len(sudoku_board)\n",
    "            ):\n",
    "                if [other_node[\"gap_index\"], node[\"gap_index\"]] not in edges and [node[\"gap_index\"], other_node[\"gap_index\"]] not in edges:\n",
    "                    edges.append([node[\"gap_index\"], other_node[\"gap_index\"]])\n",
    "\n",
    "    return edges\n"
   ]
  },
  {
   "cell_type": "code",
   "execution_count": 15,
   "metadata": {},
   "outputs": [],
   "source": [
    "def diffusor(circuit, qr, candidates, qubit_registry: CubitRegisty):\n",
    "    \"\"\"\n",
    "    diffusion (inversion about the mean) circuit.\n",
    "    note that this implementation gives H^{\\otimes n} (Id - |0..0><0...0|) H^{\\otimes n}\n",
    "    :param circuit:\n",
    "    :param qr: QuantumRegister on nodes\n",
    "    :return:\n",
    "    \"\"\"\n",
    "    # Umkehrung des Anfangszustandes\n",
    "    initialize_blanks_inverse(\n",
    "        circuit, qr[: qubit_registry.value_qubits[1] + 1], candidates, qubit_registry\n",
    "    )\n",
    "    circuit.x(qr[: qubit_registry.value_qubits[1] + 1])\n",
    "    # apply multi-control CZ\n",
    "    circuit.h(qr[qubit_registry.value_qubits[1]])\n",
    "    # circuit.mct(control_qubits=qr[:15], target_qubit=qr[15], ancilla_qubits=qr[16:29], mode='v-chain')\n",
    "    circuit.mct(\n",
    "        qr[: qubit_registry.value_qubits[1]],\n",
    "        qr[qubit_registry.value_qubits[1]],\n",
    "        qr[\n",
    "            qubit_registry.clause_qubits[0] : qubit_registry.ancilla_qubits[1] + 1\n",
    "        ],\n",
    "        mode=\"basic\",\n",
    "    )\n",
    "    circuit.h(qr[qubit_registry.value_qubits[1]])\n",
    "    circuit.x(qr[: qubit_registry.value_qubits[1] + 1])\n",
    "    initialize_blanks(circuit, qr[: qubit_registry.value_qubits[1] + 1], candidates, qubit_registry)\n"
   ]
  },
  {
   "cell_type": "code",
   "execution_count": 16,
   "metadata": {},
   "outputs": [],
   "source": [
    "def parse_simulation_result(count, gap_count, qubit_registry: CubitRegisty) -> str:\n",
    "    \"\"\"\n",
    "    Wandelt die Ergebnisse der Simulation in ein interpretierbares Format um.\n",
    "    Return ein String, wobei jedes Zeichen des Strings den Inhalt eines freien\n",
    "    Feldes vom Sudoku repräsentiert.\n",
    "    \"\"\"\n",
    "    best_result = sorted(count.items(), key=lambda x: x[1], reverse=True)[0][0][::-1]\n",
    "    result = \"\"\n",
    "    for i in range(0, gap_count * qubit_registry.number_of_qubits, qubit_registry.number_of_qubits):\n",
    "        \n",
    "        tmp = \"\".join(best_result[i : i + qubit_registry.number_of_qubits])\n",
    "        result += str(int(tmp, 2))\n",
    "    return result"
   ]
  },
  {
   "cell_type": "code",
   "execution_count": 17,
   "metadata": {},
   "outputs": [],
   "source": [
    "def fill_in_gaps(sudoku_board, solution) -> None:\n",
    "    \"\"\"\n",
    "    Befüllt das ungelöste Sudoku Board mit der\n",
    "    übergebenen Lösung\n",
    "    \"\"\"\n",
    "    result = sudoku_board.copy()\n",
    "    solutionIndex = 0\n",
    "    for rowIndex, row in enumerate(sudoku_board):\n",
    "        for colIndex, cell in enumerate(row):\n",
    "            if sudoku_board[rowIndex][colIndex] == 0:\n",
    "                result[rowIndex][colIndex] = int(solution[solutionIndex]) + 1\n",
    "                solutionIndex = solutionIndex + 1\n",
    "    return result\n"
   ]
  },
  {
   "cell_type": "code",
   "execution_count": 19,
   "metadata": {},
   "outputs": [
    {
     "name": "stdout",
     "output_type": "stream",
     "text": [
      "Ungelöstes Sudoku:\n",
      " [[4. 0. 2. 0.]\n",
      " [0. 1. 0. 4.]\n",
      " [1. 0. 4. 0.]\n",
      " [0. 4. 0. 2.]]\n",
      "Länge der Sudoku-Boards: 4 x 4\n",
      "Qubits pro Lücke:        2\n",
      "Anzahl Qubits insgesamt: 32\n",
      "Anzahl Value Qubits:     16\n",
      "Anzahl Clause Qubits:    6\n",
      "Anzahl Hilfsqubits:      7\n",
      "Edges:                   [[0, 1], [0, 2], [0, 4], [1, 3], [1, 5], [2, 3], [2, 6], [3, 7], [4, 5], [4, 6], [5, 7], [6, 7]]\n",
      "Candidats:               [[3], [1, 3], [2, 3], [3], [2, 3], [3], [3], [1, 3]]\n",
      "Grover Iterationen:      2\n",
      "Simulation gestartet\n",
      "Simulation dauerte       21.0913598 Sekunden\n",
      "Gefundene Lösung:\n",
      " [[4. 3. 2. 1.]\n",
      " [2. 1. 3. 4.]\n",
      " [1. 2. 4. 3.]\n",
      " [3. 4. 1. 2.]]\n",
      "Lösung korrekt?          True\n"
     ]
    },
    {
     "data": {
      "text/plain": [
       "(array([[4., 3., 2., 1.],\n",
       "        [2., 1., 3., 4.],\n",
       "        [1., 2., 4., 3.],\n",
       "        [3., 4., 1., 2.]]),\n",
       " 'OPENQASM 2.0;\\ninclude \"qelib1.inc\";\\ngate circuit_88 q0,q1 { u3(pi/2,0,0) q0; cx q1,q0; u3(pi/2,0,0) q0; cx q1,q0; }\\ngate circuit_116 q0,q1 { u3(pi/4,0,0) q0; cx q1,q0; u3(pi/4,0,0) q0; cx q1,q0; }\\ngate circuit_144 q0,q1 { u3(pi/2,0,0) q0; u(pi/2,0,0) q1; cx q1,q0; u3(pi/2,0,0) q0; cx q1,q0; }\\ngate circuit_178 q0,q1 { u3(pi/2,0,0) q0; cx q1,q0; u3(pi/2,0,0) q0; cx q1,q0; }\\ngate circuit_206 q0,q1 { u3(pi/2,0,0) q0; u(pi/2,0,0) q1; cx q1,q0; u3(pi/2,0,0) q0; cx q1,q0; }\\ngate circuit_240 q0,q1 { u3(pi/2,0,0) q0; cx q1,q0; u3(pi/2,0,0) q0; cx q1,q0; }\\ngate circuit_268 q0,q1 { u3(pi/2,0,0) q0; cx q1,q0; u3(pi/2,0,0) q0; cx q1,q0; }\\ngate circuit_296 q0,q1 { u3(pi/4,0,0) q0; cx q1,q0; u3(pi/4,0,0) q0; cx q1,q0; }\\ngate mcx_vchain q0,q1,q2,q3,q4,q5,q6,q7,q8,q9,q10 { rccx q0,q1,q7; rccx q2,q7,q8; rccx q3,q8,q9; rccx q4,q9,q10; ccx q5,q10,q6; rccx q4,q9,q10; rccx q3,q8,q9; rccx q2,q7,q8; rccx q0,q1,q7; }\\ngate circuit_324_dg q0,q1 { cx q1,q0; u3(-pi/4,0,0) q0; cx q1,q0; u3(-pi/4,0,0) q0; }\\ngate circuit_352_dg q0,q1 { cx q1,q0; u3(-pi/2,0,0) q0; cx q1,q0; u3(-pi/2,0,0) q0; }\\ngate circuit_380_dg q0,q1 { cx q1,q0; u3(-pi/2,0,0) q0; cx q1,q0; u3(-pi/2,0,0) q0; }\\ngate circuit_408_dg q0,q1 { cx q1,q0; u3(-pi/2,0,0) q0; cx q1,q0; u(-pi/2,0,0) q1; u3(-pi/2,0,0) q0; }\\ngate circuit_442_dg q0,q1 { cx q1,q0; u3(-pi/2,0,0) q0; cx q1,q0; u3(-pi/2,0,0) q0; }\\ngate circuit_470_dg q0,q1 { cx q1,q0; u3(-pi/2,0,0) q0; cx q1,q0; u(-pi/2,0,0) q1; u3(-pi/2,0,0) q0; }\\ngate circuit_504_dg q0,q1 { cx q1,q0; u3(-pi/4,0,0) q0; cx q1,q0; u3(-pi/4,0,0) q0; }\\ngate circuit_532_dg q0,q1 { cx q1,q0; u3(-pi/2,0,0) q0; cx q1,q0; u3(-pi/2,0,0) q0; }\\ngate mcx_vchain_140184822768688 q0,q1,q2,q3,q4,q5,q6,q7,q8,q9,q10,q11,q12,q13,q14,q15,q16,q17,q18,q19,q20,q21,q22,q23,q24,q25,q26,q27,q28 { rccx q0,q1,q16; rccx q2,q16,q17; rccx q3,q17,q18; rccx q4,q18,q19; rccx q5,q19,q20; rccx q6,q20,q21; rccx q7,q21,q22; rccx q8,q22,q23; rccx q9,q23,q24; rccx q10,q24,q25; rccx q11,q25,q26; rccx q12,q26,q27; rccx q13,q27,q28; ccx q14,q28,q15; rccx q13,q27,q28; rccx q12,q26,q27; rccx q11,q25,q26; rccx q10,q24,q25; rccx q9,q23,q24; rccx q8,q22,q23; rccx q7,q21,q22; rccx q6,q20,q21; rccx q5,q19,q20; rccx q4,q18,q19; rccx q3,q17,q18; rccx q2,q16,q17; rccx q0,q1,q16; }\\ngate circuit_560 q0,q1 { u3(pi/2,0,0) q0; cx q1,q0; u3(pi/2,0,0) q0; cx q1,q0; }\\ngate circuit_588 q0,q1 { u3(pi/4,0,0) q0; cx q1,q0; u3(pi/4,0,0) q0; cx q1,q0; }\\ngate circuit_616 q0,q1 { u3(pi/2,0,0) q0; u(pi/2,0,0) q1; cx q1,q0; u3(pi/2,0,0) q0; cx q1,q0; }\\ngate circuit_650 q0,q1 { u3(pi/2,0,0) q0; cx q1,q0; u3(pi/2,0,0) q0; cx q1,q0; }\\ngate circuit_678 q0,q1 { u3(pi/2,0,0) q0; u(pi/2,0,0) q1; cx q1,q0; u3(pi/2,0,0) q0; cx q1,q0; }\\ngate circuit_712 q0,q1 { u3(pi/2,0,0) q0; cx q1,q0; u3(pi/2,0,0) q0; cx q1,q0; }\\ngate circuit_740 q0,q1 { u3(pi/2,0,0) q0; cx q1,q0; u3(pi/2,0,0) q0; cx q1,q0; }\\ngate circuit_768 q0,q1 { u3(pi/4,0,0) q0; cx q1,q0; u3(pi/4,0,0) q0; cx q1,q0; }\\ngate circuit_796_dg q0,q1 { cx q1,q0; u3(-pi/4,0,0) q0; cx q1,q0; u3(-pi/4,0,0) q0; }\\ngate circuit_824_dg q0,q1 { cx q1,q0; u3(-pi/2,0,0) q0; cx q1,q0; u3(-pi/2,0,0) q0; }\\ngate circuit_852_dg q0,q1 { cx q1,q0; u3(-pi/2,0,0) q0; cx q1,q0; u3(-pi/2,0,0) q0; }\\ngate circuit_880_dg q0,q1 { cx q1,q0; u3(-pi/2,0,0) q0; cx q1,q0; u(-pi/2,0,0) q1; u3(-pi/2,0,0) q0; }\\ngate circuit_914_dg q0,q1 { cx q1,q0; u3(-pi/2,0,0) q0; cx q1,q0; u3(-pi/2,0,0) q0; }\\ngate circuit_942_dg q0,q1 { cx q1,q0; u3(-pi/2,0,0) q0; cx q1,q0; u(-pi/2,0,0) q1; u3(-pi/2,0,0) q0; }\\ngate circuit_976_dg q0,q1 { cx q1,q0; u3(-pi/4,0,0) q0; cx q1,q0; u3(-pi/4,0,0) q0; }\\ngate circuit_1004_dg q0,q1 { cx q1,q0; u3(-pi/2,0,0) q0; cx q1,q0; u3(-pi/2,0,0) q0; }\\ngate circuit_1032 q0,q1 { u3(pi/2,0,0) q0; cx q1,q0; u3(pi/2,0,0) q0; cx q1,q0; }\\ngate circuit_1060 q0,q1 { u3(pi/4,0,0) q0; cx q1,q0; u3(pi/4,0,0) q0; cx q1,q0; }\\ngate circuit_1088 q0,q1 { u3(pi/2,0,0) q0; u(pi/2,0,0) q1; cx q1,q0; u3(pi/2,0,0) q0; cx q1,q0; }\\ngate circuit_1122 q0,q1 { u3(pi/2,0,0) q0; cx q1,q0; u3(pi/2,0,0) q0; cx q1,q0; }\\ngate circuit_1150 q0,q1 { u3(pi/2,0,0) q0; u(pi/2,0,0) q1; cx q1,q0; u3(pi/2,0,0) q0; cx q1,q0; }\\ngate circuit_1184 q0,q1 { u3(pi/2,0,0) q0; cx q1,q0; u3(pi/2,0,0) q0; cx q1,q0; }\\ngate circuit_1212 q0,q1 { u3(pi/2,0,0) q0; cx q1,q0; u3(pi/2,0,0) q0; cx q1,q0; }\\ngate circuit_1240 q0,q1 { u3(pi/4,0,0) q0; cx q1,q0; u3(pi/4,0,0) q0; cx q1,q0; }\\nqreg q0[32];\\ncreg c0[16];\\ncircuit_88 q0[0],q0[1];\\ncircuit_116 q0[2],q0[3];\\ncircuit_144 q0[4],q0[5];\\ncircuit_178 q0[6],q0[7];\\ncircuit_206 q0[8],q0[9];\\ncircuit_240 q0[10],q0[11];\\ncircuit_268 q0[12],q0[13];\\ncircuit_296 q0[14],q0[15];\\nx q0[16];\\nccx q0[0],q0[2],q0[22];\\nccx q0[1],q0[3],q0[23];\\nx q0[0];\\nx q0[2];\\nx q0[1];\\nx q0[3];\\nccx q0[0],q0[2],q0[22];\\nccx q0[1],q0[3],q0[23];\\nccx q0[22],q0[23],q0[16];\\nccx q0[1],q0[3],q0[23];\\nccx q0[0],q0[2],q0[22];\\nx q0[1];\\nx q0[3];\\nx q0[0];\\nx q0[2];\\nccx q0[1],q0[3],q0[23];\\nccx q0[0],q0[2],q0[22];\\nx q0[17];\\nccx q0[0],q0[4],q0[22];\\nccx q0[1],q0[5],q0[23];\\nx q0[0];\\nx q0[4];\\nx q0[1];\\nx q0[5];\\nccx q0[0],q0[4],q0[22];\\nccx q0[1],q0[5],q0[23];\\nccx q0[22],q0[23],q0[17];\\nccx q0[1],q0[5],q0[23];\\nccx q0[0],q0[4],q0[22];\\nx q0[1];\\nx q0[5];\\nx q0[0];\\nx q0[4];\\nccx q0[1],q0[5],q0[23];\\nccx q0[0],q0[4],q0[22];\\nx q0[18];\\nccx q0[0],q0[8],q0[22];\\nccx q0[1],q0[9],q0[23];\\nx q0[0];\\nx q0[8];\\nx q0[1];\\nx q0[9];\\nccx q0[0],q0[8],q0[22];\\nccx q0[1],q0[9],q0[23];\\nccx q0[22],q0[23],q0[18];\\nccx q0[1],q0[9],q0[23];\\nccx q0[0],q0[8],q0[22];\\nx q0[1];\\nx q0[9];\\nx q0[0];\\nx q0[8];\\nccx q0[1],q0[9],q0[23];\\nccx q0[0],q0[8],q0[22];\\nx q0[19];\\nccx q0[2],q0[6],q0[22];\\nccx q0[3],q0[7],q0[23];\\nx q0[2];\\nx q0[6];\\nx q0[3];\\nx q0[7];\\nccx q0[2],q0[6],q0[22];\\nccx q0[3],q0[7],q0[23];\\nccx q0[22],q0[23],q0[19];\\nccx q0[3],q0[7],q0[23];\\nccx q0[2],q0[6],q0[22];\\nx q0[3];\\nx q0[7];\\nx q0[2];\\nx q0[6];\\nccx q0[3],q0[7],q0[23];\\nccx q0[2],q0[6],q0[22];\\nx q0[20];\\nccx q0[2],q0[10],q0[22];\\nccx q0[3],q0[11],q0[23];\\nx q0[2];\\nx q0[10];\\nx q0[3];\\nx q0[11];\\nccx q0[2],q0[10],q0[22];\\nccx q0[3],q0[11],q0[23];\\nccx q0[22],q0[23],q0[20];\\nccx q0[3],q0[11],q0[23];\\nccx q0[2],q0[10],q0[22];\\nx q0[3];\\nx q0[11];\\nx q0[2];\\nx q0[10];\\nccx q0[3],q0[11],q0[23];\\nccx q0[2],q0[10],q0[22];\\nx q0[21];\\nccx q0[4],q0[6],q0[22];\\nccx q0[5],q0[7],q0[23];\\nx q0[4];\\nx q0[6];\\nx q0[5];\\nx q0[7];\\nccx q0[4],q0[6],q0[22];\\nccx q0[5],q0[7],q0[23];\\nccx q0[22],q0[23],q0[21];\\nccx q0[5],q0[7],q0[23];\\nccx q0[4],q0[6],q0[22];\\nx q0[5];\\nx q0[7];\\nx q0[4];\\nx q0[6];\\nccx q0[5],q0[7],q0[23];\\nccx q0[4],q0[6],q0[22];\\nmcx_vchain q0[16],q0[17],q0[18],q0[19],q0[20],q0[21],q0[30],q0[22],q0[23],q0[24],q0[25];\\nccx q0[5],q0[7],q0[23];\\nccx q0[4],q0[6],q0[22];\\nx q0[5];\\nx q0[7];\\nx q0[4];\\nx q0[6];\\nccx q0[5],q0[7],q0[23];\\nccx q0[4],q0[6],q0[22];\\nccx q0[22],q0[23],q0[21];\\nccx q0[4],q0[6],q0[22];\\nccx q0[5],q0[7],q0[23];\\nx q0[4];\\nx q0[6];\\nx q0[5];\\nx q0[7];\\nccx q0[4],q0[6],q0[22];\\nccx q0[5],q0[7],q0[23];\\nx q0[21];\\nccx q0[3],q0[11],q0[23];\\nccx q0[2],q0[10],q0[22];\\nx q0[3];\\nx q0[11];\\nx q0[2];\\nx q0[10];\\nccx q0[3],q0[11],q0[23];\\nccx q0[2],q0[10],q0[22];\\nccx q0[22],q0[23],q0[20];\\nccx q0[2],q0[10],q0[22];\\nccx q0[3],q0[11],q0[23];\\nx q0[2];\\nx q0[10];\\nx q0[3];\\nx q0[11];\\nccx q0[2],q0[10],q0[22];\\nccx q0[3],q0[11],q0[23];\\nx q0[20];\\nccx q0[3],q0[7],q0[23];\\nccx q0[2],q0[6],q0[22];\\nx q0[3];\\nx q0[7];\\nx q0[2];\\nx q0[6];\\nccx q0[3],q0[7],q0[23];\\nccx q0[2],q0[6],q0[22];\\nccx q0[22],q0[23],q0[19];\\nccx q0[2],q0[6],q0[22];\\nccx q0[3],q0[7],q0[23];\\nx q0[2];\\nx q0[6];\\nx q0[3];\\nx q0[7];\\nccx q0[2],q0[6],q0[22];\\nccx q0[3],q0[7],q0[23];\\nx q0[19];\\nccx q0[1],q0[9],q0[23];\\nccx q0[0],q0[8],q0[22];\\nx q0[1];\\nx q0[9];\\nx q0[0];\\nx q0[8];\\nccx q0[1],q0[9],q0[23];\\nccx q0[0],q0[8],q0[22];\\nccx q0[22],q0[23],q0[18];\\nccx q0[0],q0[8],q0[22];\\nccx q0[1],q0[9],q0[23];\\nx q0[0];\\nx q0[8];\\nx q0[1];\\nx q0[9];\\nccx q0[0],q0[8],q0[22];\\nccx q0[1],q0[9],q0[23];\\nx q0[18];\\nccx q0[1],q0[5],q0[23];\\nccx q0[0],q0[4],q0[22];\\nx q0[1];\\nx q0[5];\\nx q0[0];\\nx q0[4];\\nccx q0[1],q0[5],q0[23];\\nccx q0[0],q0[4],q0[22];\\nccx q0[22],q0[23],q0[17];\\nccx q0[0],q0[4],q0[22];\\nccx q0[1],q0[5],q0[23];\\nx q0[0];\\nx q0[4];\\nx q0[1];\\nx q0[5];\\nccx q0[0],q0[4],q0[22];\\nccx q0[1],q0[5],q0[23];\\nx q0[17];\\nccx q0[1],q0[3],q0[23];\\nccx q0[0],q0[2],q0[22];\\nx q0[1];\\nx q0[3];\\nx q0[0];\\nx q0[2];\\nccx q0[1],q0[3],q0[23];\\nccx q0[0],q0[2],q0[22];\\nccx q0[22],q0[23],q0[16];\\nccx q0[0],q0[2],q0[22];\\nccx q0[1],q0[3],q0[23];\\nx q0[0];\\nx q0[2];\\nx q0[1];\\nx q0[3];\\nccx q0[0],q0[2],q0[22];\\nccx q0[1],q0[3],q0[23];\\nx q0[16];\\nx q0[16];\\nccx q0[4],q0[12],q0[22];\\nccx q0[5],q0[13],q0[23];\\nx q0[4];\\nx q0[12];\\nx q0[5];\\nx q0[13];\\nccx q0[4],q0[12],q0[22];\\nccx q0[5],q0[13],q0[23];\\nccx q0[22],q0[23],q0[16];\\nccx q0[5],q0[13],q0[23];\\nccx q0[4],q0[12],q0[22];\\nx q0[5];\\nx q0[13];\\nx q0[4];\\nx q0[12];\\nccx q0[5],q0[13],q0[23];\\nccx q0[4],q0[12],q0[22];\\nx q0[17];\\nccx q0[6],q0[14],q0[22];\\nccx q0[7],q0[15],q0[23];\\nx q0[6];\\nx q0[14];\\nx q0[7];\\nx q0[15];\\nccx q0[6],q0[14],q0[22];\\nccx q0[7],q0[15],q0[23];\\nccx q0[22],q0[23],q0[17];\\nccx q0[7],q0[15],q0[23];\\nccx q0[6],q0[14],q0[22];\\nx q0[7];\\nx q0[15];\\nx q0[6];\\nx q0[14];\\nccx q0[7],q0[15],q0[23];\\nccx q0[6],q0[14],q0[22];\\nx q0[18];\\nccx q0[8],q0[10],q0[22];\\nccx q0[9],q0[11],q0[23];\\nx q0[8];\\nx q0[10];\\nx q0[9];\\nx q0[11];\\nccx q0[8],q0[10],q0[22];\\nccx q0[9],q0[11],q0[23];\\nccx q0[22],q0[23],q0[18];\\nccx q0[9],q0[11],q0[23];\\nccx q0[8],q0[10],q0[22];\\nx q0[9];\\nx q0[11];\\nx q0[8];\\nx q0[10];\\nccx q0[9],q0[11],q0[23];\\nccx q0[8],q0[10],q0[22];\\nx q0[19];\\nccx q0[8],q0[12],q0[22];\\nccx q0[9],q0[13],q0[23];\\nx q0[8];\\nx q0[12];\\nx q0[9];\\nx q0[13];\\nccx q0[8],q0[12],q0[22];\\nccx q0[9],q0[13],q0[23];\\nccx q0[22],q0[23],q0[19];\\nccx q0[9],q0[13],q0[23];\\nccx q0[8],q0[12],q0[22];\\nx q0[9];\\nx q0[13];\\nx q0[8];\\nx q0[12];\\nccx q0[9],q0[13],q0[23];\\nccx q0[8],q0[12],q0[22];\\nx q0[20];\\nccx q0[10],q0[14],q0[22];\\nccx q0[11],q0[15],q0[23];\\nx q0[10];\\nx q0[14];\\nx q0[11];\\nx q0[15];\\nccx q0[10],q0[14],q0[22];\\nccx q0[11],q0[15],q0[23];\\nccx q0[22],q0[23],q0[20];\\nccx q0[11],q0[15],q0[23];\\nccx q0[10],q0[14],q0[22];\\nx q0[11];\\nx q0[15];\\nx q0[10];\\nx q0[14];\\nccx q0[11],q0[15],q0[23];\\nccx q0[10],q0[14],q0[22];\\nx q0[21];\\nccx q0[12],q0[14],q0[22];\\nccx q0[13],q0[15],q0[23];\\nx q0[12];\\nx q0[14];\\nx q0[13];\\nx q0[15];\\nccx q0[12],q0[14],q0[22];\\nccx q0[13],q0[15],q0[23];\\nccx q0[22],q0[23],q0[21];\\nccx q0[13],q0[15],q0[23];\\nccx q0[12],q0[14],q0[22];\\nx q0[13];\\nx q0[15];\\nx q0[12];\\nx q0[14];\\nccx q0[13],q0[15],q0[23];\\nccx q0[12],q0[14],q0[22];\\nmcx_vchain q0[16],q0[17],q0[18],q0[19],q0[20],q0[21],q0[31],q0[22],q0[23],q0[24],q0[25];\\nccx q0[13],q0[15],q0[23];\\nccx q0[12],q0[14],q0[22];\\nx q0[13];\\nx q0[15];\\nx q0[12];\\nx q0[14];\\nccx q0[13],q0[15],q0[23];\\nccx q0[12],q0[14],q0[22];\\nccx q0[22],q0[23],q0[21];\\nccx q0[12],q0[14],q0[22];\\nccx q0[13],q0[15],q0[23];\\nx q0[12];\\nx q0[14];\\nx q0[13];\\nx q0[15];\\nccx q0[12],q0[14],q0[22];\\nccx q0[13],q0[15],q0[23];\\nx q0[21];\\nccx q0[11],q0[15],q0[23];\\nccx q0[10],q0[14],q0[22];\\nx q0[11];\\nx q0[15];\\nx q0[10];\\nx q0[14];\\nccx q0[11],q0[15],q0[23];\\nccx q0[10],q0[14],q0[22];\\nccx q0[22],q0[23],q0[20];\\nccx q0[10],q0[14],q0[22];\\nccx q0[11],q0[15],q0[23];\\nx q0[10];\\nx q0[14];\\nx q0[11];\\nx q0[15];\\nccx q0[10],q0[14],q0[22];\\nccx q0[11],q0[15],q0[23];\\nx q0[20];\\nccx q0[9],q0[13],q0[23];\\nccx q0[8],q0[12],q0[22];\\nx q0[9];\\nx q0[13];\\nx q0[8];\\nx q0[12];\\nccx q0[9],q0[13],q0[23];\\nccx q0[8],q0[12],q0[22];\\nccx q0[22],q0[23],q0[19];\\nccx q0[8],q0[12],q0[22];\\nccx q0[9],q0[13],q0[23];\\nx q0[8];\\nx q0[12];\\nx q0[9];\\nx q0[13];\\nccx q0[8],q0[12],q0[22];\\nccx q0[9],q0[13],q0[23];\\nx q0[19];\\nccx q0[9],q0[11],q0[23];\\nccx q0[8],q0[10],q0[22];\\nx q0[9];\\nx q0[11];\\nx q0[8];\\nx q0[10];\\nccx q0[9],q0[11],q0[23];\\nccx q0[8],q0[10],q0[22];\\nccx q0[22],q0[23],q0[18];\\nccx q0[8],q0[10],q0[22];\\nccx q0[9],q0[11],q0[23];\\nx q0[8];\\nx q0[10];\\nx q0[9];\\nx q0[11];\\nccx q0[8],q0[10],q0[22];\\nccx q0[9],q0[11],q0[23];\\nx q0[18];\\nccx q0[7],q0[15],q0[23];\\nccx q0[6],q0[14],q0[22];\\nx q0[7];\\nx q0[15];\\nx q0[6];\\nx q0[14];\\nccx q0[7],q0[15],q0[23];\\nccx q0[6],q0[14],q0[22];\\nccx q0[22],q0[23],q0[17];\\nccx q0[6],q0[14],q0[22];\\nccx q0[7],q0[15],q0[23];\\nx q0[6];\\nx q0[14];\\nx q0[7];\\nx q0[15];\\nccx q0[6],q0[14],q0[22];\\nccx q0[7],q0[15],q0[23];\\nx q0[17];\\nccx q0[5],q0[13],q0[23];\\nccx q0[4],q0[12],q0[22];\\nx q0[5];\\nx q0[13];\\nx q0[4];\\nx q0[12];\\nccx q0[5],q0[13],q0[23];\\nccx q0[4],q0[12],q0[22];\\nccx q0[22],q0[23],q0[16];\\nccx q0[4],q0[12],q0[22];\\nccx q0[5],q0[13],q0[23];\\nx q0[4];\\nx q0[12];\\nx q0[5];\\nx q0[13];\\nccx q0[4],q0[12],q0[22];\\nccx q0[5],q0[13],q0[23];\\nx q0[16];\\nccx q0[30],q0[31],q0[29];\\nx q0[16];\\nccx q0[4],q0[12],q0[22];\\nccx q0[5],q0[13],q0[23];\\nx q0[4];\\nx q0[12];\\nx q0[5];\\nx q0[13];\\nccx q0[4],q0[12],q0[22];\\nccx q0[5],q0[13],q0[23];\\nccx q0[22],q0[23],q0[16];\\nccx q0[5],q0[13],q0[23];\\nccx q0[4],q0[12],q0[22];\\nx q0[5];\\nx q0[13];\\nx q0[4];\\nx q0[12];\\nccx q0[5],q0[13],q0[23];\\nccx q0[4],q0[12],q0[22];\\nx q0[17];\\nccx q0[6],q0[14],q0[22];\\nccx q0[7],q0[15],q0[23];\\nx q0[6];\\nx q0[14];\\nx q0[7];\\nx q0[15];\\nccx q0[6],q0[14],q0[22];\\nccx q0[7],q0[15],q0[23];\\nccx q0[22],q0[23],q0[17];\\nccx q0[7],q0[15],q0[23];\\nccx q0[6],q0[14],q0[22];\\nx q0[7];\\nx q0[15];\\nx q0[6];\\nx q0[14];\\nccx q0[7],q0[15],q0[23];\\nccx q0[6],q0[14],q0[22];\\nx q0[18];\\nccx q0[8],q0[10],q0[22];\\nccx q0[9],q0[11],q0[23];\\nx q0[8];\\nx q0[10];\\nx q0[9];\\nx q0[11];\\nccx q0[8],q0[10],q0[22];\\nccx q0[9],q0[11],q0[23];\\nccx q0[22],q0[23],q0[18];\\nccx q0[9],q0[11],q0[23];\\nccx q0[8],q0[10],q0[22];\\nx q0[9];\\nx q0[11];\\nx q0[8];\\nx q0[10];\\nccx q0[9],q0[11],q0[23];\\nccx q0[8],q0[10],q0[22];\\nx q0[19];\\nccx q0[8],q0[12],q0[22];\\nccx q0[9],q0[13],q0[23];\\nx q0[8];\\nx q0[12];\\nx q0[9];\\nx q0[13];\\nccx q0[8],q0[12],q0[22];\\nccx q0[9],q0[13],q0[23];\\nccx q0[22],q0[23],q0[19];\\nccx q0[9],q0[13],q0[23];\\nccx q0[8],q0[12],q0[22];\\nx q0[9];\\nx q0[13];\\nx q0[8];\\nx q0[12];\\nccx q0[9],q0[13],q0[23];\\nccx q0[8],q0[12],q0[22];\\nx q0[20];\\nccx q0[10],q0[14],q0[22];\\nccx q0[11],q0[15],q0[23];\\nx q0[10];\\nx q0[14];\\nx q0[11];\\nx q0[15];\\nccx q0[10],q0[14],q0[22];\\nccx q0[11],q0[15],q0[23];\\nccx q0[22],q0[23],q0[20];\\nccx q0[11],q0[15],q0[23];\\nccx q0[10],q0[14],q0[22];\\nx q0[11];\\nx q0[15];\\nx q0[10];\\nx q0[14];\\nccx q0[11],q0[15],q0[23];\\nccx q0[10],q0[14],q0[22];\\nx q0[21];\\nccx q0[12],q0[14],q0[22];\\nccx q0[13],q0[15],q0[23];\\nx q0[12];\\nx q0[14];\\nx q0[13];\\nx q0[15];\\nccx q0[12],q0[14],q0[22];\\nccx q0[13],q0[15],q0[23];\\nccx q0[22],q0[23],q0[21];\\nccx q0[13],q0[15],q0[23];\\nccx q0[12],q0[14],q0[22];\\nx q0[13];\\nx q0[15];\\nx q0[12];\\nx q0[14];\\nccx q0[13],q0[15],q0[23];\\nccx q0[12],q0[14],q0[22];\\nmcx_vchain q0[16],q0[17],q0[18],q0[19],q0[20],q0[21],q0[31],q0[22],q0[23],q0[24],q0[25];\\nccx q0[13],q0[15],q0[23];\\nccx q0[12],q0[14],q0[22];\\nx q0[13];\\nx q0[15];\\nx q0[12];\\nx q0[14];\\nccx q0[13],q0[15],q0[23];\\nccx q0[12],q0[14],q0[22];\\nccx q0[22],q0[23],q0[21];\\nccx q0[12],q0[14],q0[22];\\nccx q0[13],q0[15],q0[23];\\nx q0[12];\\nx q0[14];\\nx q0[13];\\nx q0[15];\\nccx q0[12],q0[14],q0[22];\\nccx q0[13],q0[15],q0[23];\\nx q0[21];\\nccx q0[11],q0[15],q0[23];\\nccx q0[10],q0[14],q0[22];\\nx q0[11];\\nx q0[15];\\nx q0[10];\\nx q0[14];\\nccx q0[11],q0[15],q0[23];\\nccx q0[10],q0[14],q0[22];\\nccx q0[22],q0[23],q0[20];\\nccx q0[10],q0[14],q0[22];\\nccx q0[11],q0[15],q0[23];\\nx q0[10];\\nx q0[14];\\nx q0[11];\\nx q0[15];\\nccx q0[10],q0[14],q0[22];\\nccx q0[11],q0[15],q0[23];\\nx q0[20];\\nccx q0[9],q0[13],q0[23];\\nccx q0[8],q0[12],q0[22];\\nx q0[9];\\nx q0[13];\\nx q0[8];\\nx q0[12];\\nccx q0[9],q0[13],q0[23];\\nccx q0[8],q0[12],q0[22];\\nccx q0[22],q0[23],q0[19];\\nccx q0[8],q0[12],q0[22];\\nccx q0[9],q0[13],q0[23];\\nx q0[8];\\nx q0[12];\\nx q0[9];\\nx q0[13];\\nccx q0[8],q0[12],q0[22];\\nccx q0[9],q0[13],q0[23];\\nx q0[19];\\nccx q0[9],q0[11],q0[23];\\nccx q0[8],q0[10],q0[22];\\nx q0[9];\\nx q0[11];\\nx q0[8];\\nx q0[10];\\nccx q0[9],q0[11],q0[23];\\nccx q0[8],q0[10],q0[22];\\nccx q0[22],q0[23],q0[18];\\nccx q0[8],q0[10],q0[22];\\nccx q0[9],q0[11],q0[23];\\nx q0[8];\\nx q0[10];\\nx q0[9];\\nx q0[11];\\nccx q0[8],q0[10],q0[22];\\nccx q0[9],q0[11],q0[23];\\nx q0[18];\\nccx q0[7],q0[15],q0[23];\\nccx q0[6],q0[14],q0[22];\\nx q0[7];\\nx q0[15];\\nx q0[6];\\nx q0[14];\\nccx q0[7],q0[15],q0[23];\\nccx q0[6],q0[14],q0[22];\\nccx q0[22],q0[23],q0[17];\\nccx q0[6],q0[14],q0[22];\\nccx q0[7],q0[15],q0[23];\\nx q0[6];\\nx q0[14];\\nx q0[7];\\nx q0[15];\\nccx q0[6],q0[14],q0[22];\\nccx q0[7],q0[15],q0[23];\\nx q0[17];\\nccx q0[5],q0[13],q0[23];\\nccx q0[4],q0[12],q0[22];\\nx q0[5];\\nx q0[13];\\nx q0[4];\\nx q0[12];\\nccx q0[5],q0[13],q0[23];\\nccx q0[4],q0[12],q0[22];\\nccx q0[22],q0[23],q0[16];\\nccx q0[4],q0[12],q0[22];\\nccx q0[5],q0[13],q0[23];\\nx q0[4];\\nx q0[12];\\nx q0[5];\\nx q0[13];\\nccx q0[4],q0[12],q0[22];\\nccx q0[5],q0[13],q0[23];\\nx q0[16];\\nx q0[16];\\nccx q0[0],q0[2],q0[22];\\nccx q0[1],q0[3],q0[23];\\nx q0[0];\\nx q0[2];\\nx q0[1];\\nx q0[3];\\nccx q0[0],q0[2],q0[22];\\nccx q0[1],q0[3],q0[23];\\nccx q0[22],q0[23],q0[16];\\nccx q0[1],q0[3],q0[23];\\nccx q0[0],q0[2],q0[22];\\nx q0[1];\\nx q0[3];\\nx q0[0];\\nx q0[2];\\nccx q0[1],q0[3],q0[23];\\nccx q0[0],q0[2],q0[22];\\nx q0[17];\\nccx q0[0],q0[4],q0[22];\\nccx q0[1],q0[5],q0[23];\\nx q0[0];\\nx q0[4];\\nx q0[1];\\nx q0[5];\\nccx q0[0],q0[4],q0[22];\\nccx q0[1],q0[5],q0[23];\\nccx q0[22],q0[23],q0[17];\\nccx q0[1],q0[5],q0[23];\\nccx q0[0],q0[4],q0[22];\\nx q0[1];\\nx q0[5];\\nx q0[0];\\nx q0[4];\\nccx q0[1],q0[5],q0[23];\\nccx q0[0],q0[4],q0[22];\\nx q0[18];\\nccx q0[0],q0[8],q0[22];\\nccx q0[1],q0[9],q0[23];\\nx q0[0];\\nx q0[8];\\nx q0[1];\\nx q0[9];\\nccx q0[0],q0[8],q0[22];\\nccx q0[1],q0[9],q0[23];\\nccx q0[22],q0[23],q0[18];\\nccx q0[1],q0[9],q0[23];\\nccx q0[0],q0[8],q0[22];\\nx q0[1];\\nx q0[9];\\nx q0[0];\\nx q0[8];\\nccx q0[1],q0[9],q0[23];\\nccx q0[0],q0[8],q0[22];\\nx q0[19];\\nccx q0[2],q0[6],q0[22];\\nccx q0[3],q0[7],q0[23];\\nx q0[2];\\nx q0[6];\\nx q0[3];\\nx q0[7];\\nccx q0[2],q0[6],q0[22];\\nccx q0[3],q0[7],q0[23];\\nccx q0[22],q0[23],q0[19];\\nccx q0[3],q0[7],q0[23];\\nccx q0[2],q0[6],q0[22];\\nx q0[3];\\nx q0[7];\\nx q0[2];\\nx q0[6];\\nccx q0[3],q0[7],q0[23];\\nccx q0[2],q0[6],q0[22];\\nx q0[20];\\nccx q0[2],q0[10],q0[22];\\nccx q0[3],q0[11],q0[23];\\nx q0[2];\\nx q0[10];\\nx q0[3];\\nx q0[11];\\nccx q0[2],q0[10],q0[22];\\nccx q0[3],q0[11],q0[23];\\nccx q0[22],q0[23],q0[20];\\nccx q0[3],q0[11],q0[23];\\nccx q0[2],q0[10],q0[22];\\nx q0[3];\\nx q0[11];\\nx q0[2];\\nx q0[10];\\nccx q0[3],q0[11],q0[23];\\nccx q0[2],q0[10],q0[22];\\nx q0[21];\\nccx q0[4],q0[6],q0[22];\\nccx q0[5],q0[7],q0[23];\\nx q0[4];\\nx q0[6];\\nx q0[5];\\nx q0[7];\\nccx q0[4],q0[6],q0[22];\\nccx q0[5],q0[7],q0[23];\\nccx q0[22],q0[23],q0[21];\\nccx q0[5],q0[7],q0[23];\\nccx q0[4],q0[6],q0[22];\\nx q0[5];\\nx q0[7];\\nx q0[4];\\nx q0[6];\\nccx q0[5],q0[7],q0[23];\\nccx q0[4],q0[6],q0[22];\\nmcx_vchain q0[16],q0[17],q0[18],q0[19],q0[20],q0[21],q0[30],q0[22],q0[23],q0[24],q0[25];\\nccx q0[5],q0[7],q0[23];\\nccx q0[4],q0[6],q0[22];\\nx q0[5];\\nx q0[7];\\nx q0[4];\\nx q0[6];\\nccx q0[5],q0[7],q0[23];\\nccx q0[4],q0[6],q0[22];\\nccx q0[22],q0[23],q0[21];\\nccx q0[4],q0[6],q0[22];\\nccx q0[5],q0[7],q0[23];\\nx q0[4];\\nx q0[6];\\nx q0[5];\\nx q0[7];\\nccx q0[4],q0[6],q0[22];\\nccx q0[5],q0[7],q0[23];\\nx q0[21];\\nccx q0[3],q0[11],q0[23];\\nccx q0[2],q0[10],q0[22];\\nx q0[3];\\nx q0[11];\\nx q0[2];\\nx q0[10];\\nccx q0[3],q0[11],q0[23];\\nccx q0[2],q0[10],q0[22];\\nccx q0[22],q0[23],q0[20];\\nccx q0[2],q0[10],q0[22];\\nccx q0[3],q0[11],q0[23];\\nx q0[2];\\nx q0[10];\\nx q0[3];\\nx q0[11];\\nccx q0[2],q0[10],q0[22];\\nccx q0[3],q0[11],q0[23];\\nx q0[20];\\nccx q0[3],q0[7],q0[23];\\nccx q0[2],q0[6],q0[22];\\nx q0[3];\\nx q0[7];\\nx q0[2];\\nx q0[6];\\nccx q0[3],q0[7],q0[23];\\nccx q0[2],q0[6],q0[22];\\nccx q0[22],q0[23],q0[19];\\nccx q0[2],q0[6],q0[22];\\nccx q0[3],q0[7],q0[23];\\nx q0[2];\\nx q0[6];\\nx q0[3];\\nx q0[7];\\nccx q0[2],q0[6],q0[22];\\nccx q0[3],q0[7],q0[23];\\nx q0[19];\\nccx q0[1],q0[9],q0[23];\\nccx q0[0],q0[8],q0[22];\\nx q0[1];\\nx q0[9];\\nx q0[0];\\nx q0[8];\\nccx q0[1],q0[9],q0[23];\\nccx q0[0],q0[8],q0[22];\\nccx q0[22],q0[23],q0[18];\\nccx q0[0],q0[8],q0[22];\\nccx q0[1],q0[9],q0[23];\\nx q0[0];\\nx q0[8];\\nx q0[1];\\nx q0[9];\\nccx q0[0],q0[8],q0[22];\\nccx q0[1],q0[9],q0[23];\\nx q0[18];\\nccx q0[1],q0[5],q0[23];\\nccx q0[0],q0[4],q0[22];\\nx q0[1];\\nx q0[5];\\nx q0[0];\\nx q0[4];\\nccx q0[1],q0[5],q0[23];\\nccx q0[0],q0[4],q0[22];\\nccx q0[22],q0[23],q0[17];\\nccx q0[0],q0[4],q0[22];\\nccx q0[1],q0[5],q0[23];\\nx q0[0];\\nx q0[4];\\nx q0[1];\\nx q0[5];\\nccx q0[0],q0[4],q0[22];\\nccx q0[1],q0[5],q0[23];\\nx q0[17];\\nccx q0[1],q0[3],q0[23];\\nccx q0[0],q0[2],q0[22];\\nx q0[1];\\nx q0[3];\\nx q0[0];\\nx q0[2];\\nccx q0[1],q0[3],q0[23];\\nccx q0[0],q0[2],q0[22];\\nccx q0[22],q0[23],q0[16];\\nccx q0[0],q0[2],q0[22];\\nccx q0[1],q0[3],q0[23];\\nx q0[0];\\nx q0[2];\\nx q0[1];\\nx q0[3];\\nccx q0[0],q0[2],q0[22];\\nccx q0[1],q0[3],q0[23];\\nx q0[16];\\ncircuit_324_dg q0[14],q0[15];\\ncircuit_352_dg q0[12],q0[13];\\ncircuit_380_dg q0[10],q0[11];\\ncircuit_408_dg q0[8],q0[9];\\ncircuit_442_dg q0[6],q0[7];\\ncircuit_470_dg q0[4],q0[5];\\ncircuit_504_dg q0[2],q0[3];\\ncircuit_532_dg q0[0],q0[1];\\nx q0[0];\\nx q0[1];\\nx q0[2];\\nx q0[3];\\nx q0[4];\\nx q0[5];\\nx q0[6];\\nx q0[7];\\nx q0[8];\\nx q0[9];\\nx q0[10];\\nx q0[11];\\nx q0[12];\\nx q0[13];\\nx q0[14];\\nx q0[15];\\nh q0[15];\\nmcx_vchain_140184822768688 q0[0],q0[1],q0[2],q0[3],q0[4],q0[5],q0[6],q0[7],q0[8],q0[9],q0[10],q0[11],q0[12],q0[13],q0[14],q0[15],q0[16],q0[17],q0[18],q0[19],q0[20],q0[21],q0[22],q0[23],q0[24],q0[25],q0[26],q0[27],q0[28];\\nh q0[15];\\nx q0[0];\\nx q0[1];\\nx q0[2];\\nx q0[3];\\nx q0[4];\\nx q0[5];\\nx q0[6];\\nx q0[7];\\nx q0[8];\\nx q0[9];\\nx q0[10];\\nx q0[11];\\nx q0[12];\\nx q0[13];\\nx q0[14];\\nx q0[15];\\ncircuit_560 q0[0],q0[1];\\ncircuit_588 q0[2],q0[3];\\ncircuit_616 q0[4],q0[5];\\ncircuit_650 q0[6],q0[7];\\ncircuit_678 q0[8],q0[9];\\ncircuit_712 q0[10],q0[11];\\ncircuit_740 q0[12],q0[13];\\ncircuit_768 q0[14],q0[15];\\nx q0[16];\\nccx q0[0],q0[2],q0[22];\\nccx q0[1],q0[3],q0[23];\\nx q0[0];\\nx q0[2];\\nx q0[1];\\nx q0[3];\\nccx q0[0],q0[2],q0[22];\\nccx q0[1],q0[3],q0[23];\\nccx q0[22],q0[23],q0[16];\\nccx q0[1],q0[3],q0[23];\\nccx q0[0],q0[2],q0[22];\\nx q0[1];\\nx q0[3];\\nx q0[0];\\nx q0[2];\\nccx q0[1],q0[3],q0[23];\\nccx q0[0],q0[2],q0[22];\\nx q0[17];\\nccx q0[0],q0[4],q0[22];\\nccx q0[1],q0[5],q0[23];\\nx q0[0];\\nx q0[4];\\nx q0[1];\\nx q0[5];\\nccx q0[0],q0[4],q0[22];\\nccx q0[1],q0[5],q0[23];\\nccx q0[22],q0[23],q0[17];\\nccx q0[1],q0[5],q0[23];\\nccx q0[0],q0[4],q0[22];\\nx q0[1];\\nx q0[5];\\nx q0[0];\\nx q0[4];\\nccx q0[1],q0[5],q0[23];\\nccx q0[0],q0[4],q0[22];\\nx q0[18];\\nccx q0[0],q0[8],q0[22];\\nccx q0[1],q0[9],q0[23];\\nx q0[0];\\nx q0[8];\\nx q0[1];\\nx q0[9];\\nccx q0[0],q0[8],q0[22];\\nccx q0[1],q0[9],q0[23];\\nccx q0[22],q0[23],q0[18];\\nccx q0[1],q0[9],q0[23];\\nccx q0[0],q0[8],q0[22];\\nx q0[1];\\nx q0[9];\\nx q0[0];\\nx q0[8];\\nccx q0[1],q0[9],q0[23];\\nccx q0[0],q0[8],q0[22];\\nx q0[19];\\nccx q0[2],q0[6],q0[22];\\nccx q0[3],q0[7],q0[23];\\nx q0[2];\\nx q0[6];\\nx q0[3];\\nx q0[7];\\nccx q0[2],q0[6],q0[22];\\nccx q0[3],q0[7],q0[23];\\nccx q0[22],q0[23],q0[19];\\nccx q0[3],q0[7],q0[23];\\nccx q0[2],q0[6],q0[22];\\nx q0[3];\\nx q0[7];\\nx q0[2];\\nx q0[6];\\nccx q0[3],q0[7],q0[23];\\nccx q0[2],q0[6],q0[22];\\nx q0[20];\\nccx q0[2],q0[10],q0[22];\\nccx q0[3],q0[11],q0[23];\\nx q0[2];\\nx q0[10];\\nx q0[3];\\nx q0[11];\\nccx q0[2],q0[10],q0[22];\\nccx q0[3],q0[11],q0[23];\\nccx q0[22],q0[23],q0[20];\\nccx q0[3],q0[11],q0[23];\\nccx q0[2],q0[10],q0[22];\\nx q0[3];\\nx q0[11];\\nx q0[2];\\nx q0[10];\\nccx q0[3],q0[11],q0[23];\\nccx q0[2],q0[10],q0[22];\\nx q0[21];\\nccx q0[4],q0[6],q0[22];\\nccx q0[5],q0[7],q0[23];\\nx q0[4];\\nx q0[6];\\nx q0[5];\\nx q0[7];\\nccx q0[4],q0[6],q0[22];\\nccx q0[5],q0[7],q0[23];\\nccx q0[22],q0[23],q0[21];\\nccx q0[5],q0[7],q0[23];\\nccx q0[4],q0[6],q0[22];\\nx q0[5];\\nx q0[7];\\nx q0[4];\\nx q0[6];\\nccx q0[5],q0[7],q0[23];\\nccx q0[4],q0[6],q0[22];\\nmcx_vchain q0[16],q0[17],q0[18],q0[19],q0[20],q0[21],q0[30],q0[22],q0[23],q0[24],q0[25];\\nccx q0[5],q0[7],q0[23];\\nccx q0[4],q0[6],q0[22];\\nx q0[5];\\nx q0[7];\\nx q0[4];\\nx q0[6];\\nccx q0[5],q0[7],q0[23];\\nccx q0[4],q0[6],q0[22];\\nccx q0[22],q0[23],q0[21];\\nccx q0[4],q0[6],q0[22];\\nccx q0[5],q0[7],q0[23];\\nx q0[4];\\nx q0[6];\\nx q0[5];\\nx q0[7];\\nccx q0[4],q0[6],q0[22];\\nccx q0[5],q0[7],q0[23];\\nx q0[21];\\nccx q0[3],q0[11],q0[23];\\nccx q0[2],q0[10],q0[22];\\nx q0[3];\\nx q0[11];\\nx q0[2];\\nx q0[10];\\nccx q0[3],q0[11],q0[23];\\nccx q0[2],q0[10],q0[22];\\nccx q0[22],q0[23],q0[20];\\nccx q0[2],q0[10],q0[22];\\nccx q0[3],q0[11],q0[23];\\nx q0[2];\\nx q0[10];\\nx q0[3];\\nx q0[11];\\nccx q0[2],q0[10],q0[22];\\nccx q0[3],q0[11],q0[23];\\nx q0[20];\\nccx q0[3],q0[7],q0[23];\\nccx q0[2],q0[6],q0[22];\\nx q0[3];\\nx q0[7];\\nx q0[2];\\nx q0[6];\\nccx q0[3],q0[7],q0[23];\\nccx q0[2],q0[6],q0[22];\\nccx q0[22],q0[23],q0[19];\\nccx q0[2],q0[6],q0[22];\\nccx q0[3],q0[7],q0[23];\\nx q0[2];\\nx q0[6];\\nx q0[3];\\nx q0[7];\\nccx q0[2],q0[6],q0[22];\\nccx q0[3],q0[7],q0[23];\\nx q0[19];\\nccx q0[1],q0[9],q0[23];\\nccx q0[0],q0[8],q0[22];\\nx q0[1];\\nx q0[9];\\nx q0[0];\\nx q0[8];\\nccx q0[1],q0[9],q0[23];\\nccx q0[0],q0[8],q0[22];\\nccx q0[22],q0[23],q0[18];\\nccx q0[0],q0[8],q0[22];\\nccx q0[1],q0[9],q0[23];\\nx q0[0];\\nx q0[8];\\nx q0[1];\\nx q0[9];\\nccx q0[0],q0[8],q0[22];\\nccx q0[1],q0[9],q0[23];\\nx q0[18];\\nccx q0[1],q0[5],q0[23];\\nccx q0[0],q0[4],q0[22];\\nx q0[1];\\nx q0[5];\\nx q0[0];\\nx q0[4];\\nccx q0[1],q0[5],q0[23];\\nccx q0[0],q0[4],q0[22];\\nccx q0[22],q0[23],q0[17];\\nccx q0[0],q0[4],q0[22];\\nccx q0[1],q0[5],q0[23];\\nx q0[0];\\nx q0[4];\\nx q0[1];\\nx q0[5];\\nccx q0[0],q0[4],q0[22];\\nccx q0[1],q0[5],q0[23];\\nx q0[17];\\nccx q0[1],q0[3],q0[23];\\nccx q0[0],q0[2],q0[22];\\nx q0[1];\\nx q0[3];\\nx q0[0];\\nx q0[2];\\nccx q0[1],q0[3],q0[23];\\nccx q0[0],q0[2],q0[22];\\nccx q0[22],q0[23],q0[16];\\nccx q0[0],q0[2],q0[22];\\nccx q0[1],q0[3],q0[23];\\nx q0[0];\\nx q0[2];\\nx q0[1];\\nx q0[3];\\nccx q0[0],q0[2],q0[22];\\nccx q0[1],q0[3],q0[23];\\nx q0[16];\\nx q0[16];\\nccx q0[4],q0[12],q0[22];\\nccx q0[5],q0[13],q0[23];\\nx q0[4];\\nx q0[12];\\nx q0[5];\\nx q0[13];\\nccx q0[4],q0[12],q0[22];\\nccx q0[5],q0[13],q0[23];\\nccx q0[22],q0[23],q0[16];\\nccx q0[5],q0[13],q0[23];\\nccx q0[4],q0[12],q0[22];\\nx q0[5];\\nx q0[13];\\nx q0[4];\\nx q0[12];\\nccx q0[5],q0[13],q0[23];\\nccx q0[4],q0[12],q0[22];\\nx q0[17];\\nccx q0[6],q0[14],q0[22];\\nccx q0[7],q0[15],q0[23];\\nx q0[6];\\nx q0[14];\\nx q0[7];\\nx q0[15];\\nccx q0[6],q0[14],q0[22];\\nccx q0[7],q0[15],q0[23];\\nccx q0[22],q0[23],q0[17];\\nccx q0[7],q0[15],q0[23];\\nccx q0[6],q0[14],q0[22];\\nx q0[7];\\nx q0[15];\\nx q0[6];\\nx q0[14];\\nccx q0[7],q0[15],q0[23];\\nccx q0[6],q0[14],q0[22];\\nx q0[18];\\nccx q0[8],q0[10],q0[22];\\nccx q0[9],q0[11],q0[23];\\nx q0[8];\\nx q0[10];\\nx q0[9];\\nx q0[11];\\nccx q0[8],q0[10],q0[22];\\nccx q0[9],q0[11],q0[23];\\nccx q0[22],q0[23],q0[18];\\nccx q0[9],q0[11],q0[23];\\nccx q0[8],q0[10],q0[22];\\nx q0[9];\\nx q0[11];\\nx q0[8];\\nx q0[10];\\nccx q0[9],q0[11],q0[23];\\nccx q0[8],q0[10],q0[22];\\nx q0[19];\\nccx q0[8],q0[12],q0[22];\\nccx q0[9],q0[13],q0[23];\\nx q0[8];\\nx q0[12];\\nx q0[9];\\nx q0[13];\\nccx q0[8],q0[12],q0[22];\\nccx q0[9],q0[13],q0[23];\\nccx q0[22],q0[23],q0[19];\\nccx q0[9],q0[13],q0[23];\\nccx q0[8],q0[12],q0[22];\\nx q0[9];\\nx q0[13];\\nx q0[8];\\nx q0[12];\\nccx q0[9],q0[13],q0[23];\\nccx q0[8],q0[12],q0[22];\\nx q0[20];\\nccx q0[10],q0[14],q0[22];\\nccx q0[11],q0[15],q0[23];\\nx q0[10];\\nx q0[14];\\nx q0[11];\\nx q0[15];\\nccx q0[10],q0[14],q0[22];\\nccx q0[11],q0[15],q0[23];\\nccx q0[22],q0[23],q0[20];\\nccx q0[11],q0[15],q0[23];\\nccx q0[10],q0[14],q0[22];\\nx q0[11];\\nx q0[15];\\nx q0[10];\\nx q0[14];\\nccx q0[11],q0[15],q0[23];\\nccx q0[10],q0[14],q0[22];\\nx q0[21];\\nccx q0[12],q0[14],q0[22];\\nccx q0[13],q0[15],q0[23];\\nx q0[12];\\nx q0[14];\\nx q0[13];\\nx q0[15];\\nccx q0[12],q0[14],q0[22];\\nccx q0[13],q0[15],q0[23];\\nccx q0[22],q0[23],q0[21];\\nccx q0[13],q0[15],q0[23];\\nccx q0[12],q0[14],q0[22];\\nx q0[13];\\nx q0[15];\\nx q0[12];\\nx q0[14];\\nccx q0[13],q0[15],q0[23];\\nccx q0[12],q0[14],q0[22];\\nmcx_vchain q0[16],q0[17],q0[18],q0[19],q0[20],q0[21],q0[31],q0[22],q0[23],q0[24],q0[25];\\nccx q0[13],q0[15],q0[23];\\nccx q0[12],q0[14],q0[22];\\nx q0[13];\\nx q0[15];\\nx q0[12];\\nx q0[14];\\nccx q0[13],q0[15],q0[23];\\nccx q0[12],q0[14],q0[22];\\nccx q0[22],q0[23],q0[21];\\nccx q0[12],q0[14],q0[22];\\nccx q0[13],q0[15],q0[23];\\nx q0[12];\\nx q0[14];\\nx q0[13];\\nx q0[15];\\nccx q0[12],q0[14],q0[22];\\nccx q0[13],q0[15],q0[23];\\nx q0[21];\\nccx q0[11],q0[15],q0[23];\\nccx q0[10],q0[14],q0[22];\\nx q0[11];\\nx q0[15];\\nx q0[10];\\nx q0[14];\\nccx q0[11],q0[15],q0[23];\\nccx q0[10],q0[14],q0[22];\\nccx q0[22],q0[23],q0[20];\\nccx q0[10],q0[14],q0[22];\\nccx q0[11],q0[15],q0[23];\\nx q0[10];\\nx q0[14];\\nx q0[11];\\nx q0[15];\\nccx q0[10],q0[14],q0[22];\\nccx q0[11],q0[15],q0[23];\\nx q0[20];\\nccx q0[9],q0[13],q0[23];\\nccx q0[8],q0[12],q0[22];\\nx q0[9];\\nx q0[13];\\nx q0[8];\\nx q0[12];\\nccx q0[9],q0[13],q0[23];\\nccx q0[8],q0[12],q0[22];\\nccx q0[22],q0[23],q0[19];\\nccx q0[8],q0[12],q0[22];\\nccx q0[9],q0[13],q0[23];\\nx q0[8];\\nx q0[12];\\nx q0[9];\\nx q0[13];\\nccx q0[8],q0[12],q0[22];\\nccx q0[9],q0[13],q0[23];\\nx q0[19];\\nccx q0[9],q0[11],q0[23];\\nccx q0[8],q0[10],q0[22];\\nx q0[9];\\nx q0[11];\\nx q0[8];\\nx q0[10];\\nccx q0[9],q0[11],q0[23];\\nccx q0[8],q0[10],q0[22];\\nccx q0[22],q0[23],q0[18];\\nccx q0[8],q0[10],q0[22];\\nccx q0[9],q0[11],q0[23];\\nx q0[8];\\nx q0[10];\\nx q0[9];\\nx q0[11];\\nccx q0[8],q0[10],q0[22];\\nccx q0[9],q0[11],q0[23];\\nx q0[18];\\nccx q0[7],q0[15],q0[23];\\nccx q0[6],q0[14],q0[22];\\nx q0[7];\\nx q0[15];\\nx q0[6];\\nx q0[14];\\nccx q0[7],q0[15],q0[23];\\nccx q0[6],q0[14],q0[22];\\nccx q0[22],q0[23],q0[17];\\nccx q0[6],q0[14],q0[22];\\nccx q0[7],q0[15],q0[23];\\nx q0[6];\\nx q0[14];\\nx q0[7];\\nx q0[15];\\nccx q0[6],q0[14],q0[22];\\nccx q0[7],q0[15],q0[23];\\nx q0[17];\\nccx q0[5],q0[13],q0[23];\\nccx q0[4],q0[12],q0[22];\\nx q0[5];\\nx q0[13];\\nx q0[4];\\nx q0[12];\\nccx q0[5],q0[13],q0[23];\\nccx q0[4],q0[12],q0[22];\\nccx q0[22],q0[23],q0[16];\\nccx q0[4],q0[12],q0[22];\\nccx q0[5],q0[13],q0[23];\\nx q0[4];\\nx q0[12];\\nx q0[5];\\nx q0[13];\\nccx q0[4],q0[12],q0[22];\\nccx q0[5],q0[13],q0[23];\\nx q0[16];\\nccx q0[30],q0[31],q0[29];\\nx q0[16];\\nccx q0[4],q0[12],q0[22];\\nccx q0[5],q0[13],q0[23];\\nx q0[4];\\nx q0[12];\\nx q0[5];\\nx q0[13];\\nccx q0[4],q0[12],q0[22];\\nccx q0[5],q0[13],q0[23];\\nccx q0[22],q0[23],q0[16];\\nccx q0[5],q0[13],q0[23];\\nccx q0[4],q0[12],q0[22];\\nx q0[5];\\nx q0[13];\\nx q0[4];\\nx q0[12];\\nccx q0[5],q0[13],q0[23];\\nccx q0[4],q0[12],q0[22];\\nx q0[17];\\nccx q0[6],q0[14],q0[22];\\nccx q0[7],q0[15],q0[23];\\nx q0[6];\\nx q0[14];\\nx q0[7];\\nx q0[15];\\nccx q0[6],q0[14],q0[22];\\nccx q0[7],q0[15],q0[23];\\nccx q0[22],q0[23],q0[17];\\nccx q0[7],q0[15],q0[23];\\nccx q0[6],q0[14],q0[22];\\nx q0[7];\\nx q0[15];\\nx q0[6];\\nx q0[14];\\nccx q0[7],q0[15],q0[23];\\nccx q0[6],q0[14],q0[22];\\nx q0[18];\\nccx q0[8],q0[10],q0[22];\\nccx q0[9],q0[11],q0[23];\\nx q0[8];\\nx q0[10];\\nx q0[9];\\nx q0[11];\\nccx q0[8],q0[10],q0[22];\\nccx q0[9],q0[11],q0[23];\\nccx q0[22],q0[23],q0[18];\\nccx q0[9],q0[11],q0[23];\\nccx q0[8],q0[10],q0[22];\\nx q0[9];\\nx q0[11];\\nx q0[8];\\nx q0[10];\\nccx q0[9],q0[11],q0[23];\\nccx q0[8],q0[10],q0[22];\\nx q0[19];\\nccx q0[8],q0[12],q0[22];\\nccx q0[9],q0[13],q0[23];\\nx q0[8];\\nx q0[12];\\nx q0[9];\\nx q0[13];\\nccx q0[8],q0[12],q0[22];\\nccx q0[9],q0[13],q0[23];\\nccx q0[22],q0[23],q0[19];\\nccx q0[9],q0[13],q0[23];\\nccx q0[8],q0[12],q0[22];\\nx q0[9];\\nx q0[13];\\nx q0[8];\\nx q0[12];\\nccx q0[9],q0[13],q0[23];\\nccx q0[8],q0[12],q0[22];\\nx q0[20];\\nccx q0[10],q0[14],q0[22];\\nccx q0[11],q0[15],q0[23];\\nx q0[10];\\nx q0[14];\\nx q0[11];\\nx q0[15];\\nccx q0[10],q0[14],q0[22];\\nccx q0[11],q0[15],q0[23];\\nccx q0[22],q0[23],q0[20];\\nccx q0[11],q0[15],q0[23];\\nccx q0[10],q0[14],q0[22];\\nx q0[11];\\nx q0[15];\\nx q0[10];\\nx q0[14];\\nccx q0[11],q0[15],q0[23];\\nccx q0[10],q0[14],q0[22];\\nx q0[21];\\nccx q0[12],q0[14],q0[22];\\nccx q0[13],q0[15],q0[23];\\nx q0[12];\\nx q0[14];\\nx q0[13];\\nx q0[15];\\nccx q0[12],q0[14],q0[22];\\nccx q0[13],q0[15],q0[23];\\nccx q0[22],q0[23],q0[21];\\nccx q0[13],q0[15],q0[23];\\nccx q0[12],q0[14],q0[22];\\nx q0[13];\\nx q0[15];\\nx q0[12];\\nx q0[14];\\nccx q0[13],q0[15],q0[23];\\nccx q0[12],q0[14],q0[22];\\nmcx_vchain q0[16],q0[17],q0[18],q0[19],q0[20],q0[21],q0[31],q0[22],q0[23],q0[24],q0[25];\\nccx q0[13],q0[15],q0[23];\\nccx q0[12],q0[14],q0[22];\\nx q0[13];\\nx q0[15];\\nx q0[12];\\nx q0[14];\\nccx q0[13],q0[15],q0[23];\\nccx q0[12],q0[14],q0[22];\\nccx q0[22],q0[23],q0[21];\\nccx q0[12],q0[14],q0[22];\\nccx q0[13],q0[15],q0[23];\\nx q0[12];\\nx q0[14];\\nx q0[13];\\nx q0[15];\\nccx q0[12],q0[14],q0[22];\\nccx q0[13],q0[15],q0[23];\\nx q0[21];\\nccx q0[11],q0[15],q0[23];\\nccx q0[10],q0[14],q0[22];\\nx q0[11];\\nx q0[15];\\nx q0[10];\\nx q0[14];\\nccx q0[11],q0[15],q0[23];\\nccx q0[10],q0[14],q0[22];\\nccx q0[22],q0[23],q0[20];\\nccx q0[10],q0[14],q0[22];\\nccx q0[11],q0[15],q0[23];\\nx q0[10];\\nx q0[14];\\nx q0[11];\\nx q0[15];\\nccx q0[10],q0[14],q0[22];\\nccx q0[11],q0[15],q0[23];\\nx q0[20];\\nccx q0[9],q0[13],q0[23];\\nccx q0[8],q0[12],q0[22];\\nx q0[9];\\nx q0[13];\\nx q0[8];\\nx q0[12];\\nccx q0[9],q0[13],q0[23];\\nccx q0[8],q0[12],q0[22];\\nccx q0[22],q0[23],q0[19];\\nccx q0[8],q0[12],q0[22];\\nccx q0[9],q0[13],q0[23];\\nx q0[8];\\nx q0[12];\\nx q0[9];\\nx q0[13];\\nccx q0[8],q0[12],q0[22];\\nccx q0[9],q0[13],q0[23];\\nx q0[19];\\nccx q0[9],q0[11],q0[23];\\nccx q0[8],q0[10],q0[22];\\nx q0[9];\\nx q0[11];\\nx q0[8];\\nx q0[10];\\nccx q0[9],q0[11],q0[23];\\nccx q0[8],q0[10],q0[22];\\nccx q0[22],q0[23],q0[18];\\nccx q0[8],q0[10],q0[22];\\nccx q0[9],q0[11],q0[23];\\nx q0[8];\\nx q0[10];\\nx q0[9];\\nx q0[11];\\nccx q0[8],q0[10],q0[22];\\nccx q0[9],q0[11],q0[23];\\nx q0[18];\\nccx q0[7],q0[15],q0[23];\\nccx q0[6],q0[14],q0[22];\\nx q0[7];\\nx q0[15];\\nx q0[6];\\nx q0[14];\\nccx q0[7],q0[15],q0[23];\\nccx q0[6],q0[14],q0[22];\\nccx q0[22],q0[23],q0[17];\\nccx q0[6],q0[14],q0[22];\\nccx q0[7],q0[15],q0[23];\\nx q0[6];\\nx q0[14];\\nx q0[7];\\nx q0[15];\\nccx q0[6],q0[14],q0[22];\\nccx q0[7],q0[15],q0[23];\\nx q0[17];\\nccx q0[5],q0[13],q0[23];\\nccx q0[4],q0[12],q0[22];\\nx q0[5];\\nx q0[13];\\nx q0[4];\\nx q0[12];\\nccx q0[5],q0[13],q0[23];\\nccx q0[4],q0[12],q0[22];\\nccx q0[22],q0[23],q0[16];\\nccx q0[4],q0[12],q0[22];\\nccx q0[5],q0[13],q0[23];\\nx q0[4];\\nx q0[12];\\nx q0[5];\\nx q0[13];\\nccx q0[4],q0[12],q0[22];\\nccx q0[5],q0[13],q0[23];\\nx q0[16];\\nx q0[16];\\nccx q0[0],q0[2],q0[22];\\nccx q0[1],q0[3],q0[23];\\nx q0[0];\\nx q0[2];\\nx q0[1];\\nx q0[3];\\nccx q0[0],q0[2],q0[22];\\nccx q0[1],q0[3],q0[23];\\nccx q0[22],q0[23],q0[16];\\nccx q0[1],q0[3],q0[23];\\nccx q0[0],q0[2],q0[22];\\nx q0[1];\\nx q0[3];\\nx q0[0];\\nx q0[2];\\nccx q0[1],q0[3],q0[23];\\nccx q0[0],q0[2],q0[22];\\nx q0[17];\\nccx q0[0],q0[4],q0[22];\\nccx q0[1],q0[5],q0[23];\\nx q0[0];\\nx q0[4];\\nx q0[1];\\nx q0[5];\\nccx q0[0],q0[4],q0[22];\\nccx q0[1],q0[5],q0[23];\\nccx q0[22],q0[23],q0[17];\\nccx q0[1],q0[5],q0[23];\\nccx q0[0],q0[4],q0[22];\\nx q0[1];\\nx q0[5];\\nx q0[0];\\nx q0[4];\\nccx q0[1],q0[5],q0[23];\\nccx q0[0],q0[4],q0[22];\\nx q0[18];\\nccx q0[0],q0[8],q0[22];\\nccx q0[1],q0[9],q0[23];\\nx q0[0];\\nx q0[8];\\nx q0[1];\\nx q0[9];\\nccx q0[0],q0[8],q0[22];\\nccx q0[1],q0[9],q0[23];\\nccx q0[22],q0[23],q0[18];\\nccx q0[1],q0[9],q0[23];\\nccx q0[0],q0[8],q0[22];\\nx q0[1];\\nx q0[9];\\nx q0[0];\\nx q0[8];\\nccx q0[1],q0[9],q0[23];\\nccx q0[0],q0[8],q0[22];\\nx q0[19];\\nccx q0[2],q0[6],q0[22];\\nccx q0[3],q0[7],q0[23];\\nx q0[2];\\nx q0[6];\\nx q0[3];\\nx q0[7];\\nccx q0[2],q0[6],q0[22];\\nccx q0[3],q0[7],q0[23];\\nccx q0[22],q0[23],q0[19];\\nccx q0[3],q0[7],q0[23];\\nccx q0[2],q0[6],q0[22];\\nx q0[3];\\nx q0[7];\\nx q0[2];\\nx q0[6];\\nccx q0[3],q0[7],q0[23];\\nccx q0[2],q0[6],q0[22];\\nx q0[20];\\nccx q0[2],q0[10],q0[22];\\nccx q0[3],q0[11],q0[23];\\nx q0[2];\\nx q0[10];\\nx q0[3];\\nx q0[11];\\nccx q0[2],q0[10],q0[22];\\nccx q0[3],q0[11],q0[23];\\nccx q0[22],q0[23],q0[20];\\nccx q0[3],q0[11],q0[23];\\nccx q0[2],q0[10],q0[22];\\nx q0[3];\\nx q0[11];\\nx q0[2];\\nx q0[10];\\nccx q0[3],q0[11],q0[23];\\nccx q0[2],q0[10],q0[22];\\nx q0[21];\\nccx q0[4],q0[6],q0[22];\\nccx q0[5],q0[7],q0[23];\\nx q0[4];\\nx q0[6];\\nx q0[5];\\nx q0[7];\\nccx q0[4],q0[6],q0[22];\\nccx q0[5],q0[7],q0[23];\\nccx q0[22],q0[23],q0[21];\\nccx q0[5],q0[7],q0[23];\\nccx q0[4],q0[6],q0[22];\\nx q0[5];\\nx q0[7];\\nx q0[4];\\nx q0[6];\\nccx q0[5],q0[7],q0[23];\\nccx q0[4],q0[6],q0[22];\\nmcx_vchain q0[16],q0[17],q0[18],q0[19],q0[20],q0[21],q0[30],q0[22],q0[23],q0[24],q0[25];\\nccx q0[5],q0[7],q0[23];\\nccx q0[4],q0[6],q0[22];\\nx q0[5];\\nx q0[7];\\nx q0[4];\\nx q0[6];\\nccx q0[5],q0[7],q0[23];\\nccx q0[4],q0[6],q0[22];\\nccx q0[22],q0[23],q0[21];\\nccx q0[4],q0[6],q0[22];\\nccx q0[5],q0[7],q0[23];\\nx q0[4];\\nx q0[6];\\nx q0[5];\\nx q0[7];\\nccx q0[4],q0[6],q0[22];\\nccx q0[5],q0[7],q0[23];\\nx q0[21];\\nccx q0[3],q0[11],q0[23];\\nccx q0[2],q0[10],q0[22];\\nx q0[3];\\nx q0[11];\\nx q0[2];\\nx q0[10];\\nccx q0[3],q0[11],q0[23];\\nccx q0[2],q0[10],q0[22];\\nccx q0[22],q0[23],q0[20];\\nccx q0[2],q0[10],q0[22];\\nccx q0[3],q0[11],q0[23];\\nx q0[2];\\nx q0[10];\\nx q0[3];\\nx q0[11];\\nccx q0[2],q0[10],q0[22];\\nccx q0[3],q0[11],q0[23];\\nx q0[20];\\nccx q0[3],q0[7],q0[23];\\nccx q0[2],q0[6],q0[22];\\nx q0[3];\\nx q0[7];\\nx q0[2];\\nx q0[6];\\nccx q0[3],q0[7],q0[23];\\nccx q0[2],q0[6],q0[22];\\nccx q0[22],q0[23],q0[19];\\nccx q0[2],q0[6],q0[22];\\nccx q0[3],q0[7],q0[23];\\nx q0[2];\\nx q0[6];\\nx q0[3];\\nx q0[7];\\nccx q0[2],q0[6],q0[22];\\nccx q0[3],q0[7],q0[23];\\nx q0[19];\\nccx q0[1],q0[9],q0[23];\\nccx q0[0],q0[8],q0[22];\\nx q0[1];\\nx q0[9];\\nx q0[0];\\nx q0[8];\\nccx q0[1],q0[9],q0[23];\\nccx q0[0],q0[8],q0[22];\\nccx q0[22],q0[23],q0[18];\\nccx q0[0],q0[8],q0[22];\\nccx q0[1],q0[9],q0[23];\\nx q0[0];\\nx q0[8];\\nx q0[1];\\nx q0[9];\\nccx q0[0],q0[8],q0[22];\\nccx q0[1],q0[9],q0[23];\\nx q0[18];\\nccx q0[1],q0[5],q0[23];\\nccx q0[0],q0[4],q0[22];\\nx q0[1];\\nx q0[5];\\nx q0[0];\\nx q0[4];\\nccx q0[1],q0[5],q0[23];\\nccx q0[0],q0[4],q0[22];\\nccx q0[22],q0[23],q0[17];\\nccx q0[0],q0[4],q0[22];\\nccx q0[1],q0[5],q0[23];\\nx q0[0];\\nx q0[4];\\nx q0[1];\\nx q0[5];\\nccx q0[0],q0[4],q0[22];\\nccx q0[1],q0[5],q0[23];\\nx q0[17];\\nccx q0[1],q0[3],q0[23];\\nccx q0[0],q0[2],q0[22];\\nx q0[1];\\nx q0[3];\\nx q0[0];\\nx q0[2];\\nccx q0[1],q0[3],q0[23];\\nccx q0[0],q0[2],q0[22];\\nccx q0[22],q0[23],q0[16];\\nccx q0[0],q0[2],q0[22];\\nccx q0[1],q0[3],q0[23];\\nx q0[0];\\nx q0[2];\\nx q0[1];\\nx q0[3];\\nccx q0[0],q0[2],q0[22];\\nccx q0[1],q0[3],q0[23];\\nx q0[16];\\ncircuit_796_dg q0[14],q0[15];\\ncircuit_824_dg q0[12],q0[13];\\ncircuit_852_dg q0[10],q0[11];\\ncircuit_880_dg q0[8],q0[9];\\ncircuit_914_dg q0[6],q0[7];\\ncircuit_942_dg q0[4],q0[5];\\ncircuit_976_dg q0[2],q0[3];\\ncircuit_1004_dg q0[0],q0[1];\\nx q0[0];\\nx q0[1];\\nx q0[2];\\nx q0[3];\\nx q0[4];\\nx q0[5];\\nx q0[6];\\nx q0[7];\\nx q0[8];\\nx q0[9];\\nx q0[10];\\nx q0[11];\\nx q0[12];\\nx q0[13];\\nx q0[14];\\nx q0[15];\\nh q0[15];\\nmcx_vchain q0[0],q0[1],q0[2],q0[3],q0[4],q0[5],q0[6],q0[7],q0[8],q0[9],q0[10],q0[11],q0[12],q0[13],q0[14],q0[15],q0[16],q0[17],q0[18],q0[19],q0[20],q0[21],q0[22],q0[23],q0[24],q0[25],q0[26],q0[27],q0[28];\\nh q0[15];\\nx q0[0];\\nx q0[1];\\nx q0[2];\\nx q0[3];\\nx q0[4];\\nx q0[5];\\nx q0[6];\\nx q0[7];\\nx q0[8];\\nx q0[9];\\nx q0[10];\\nx q0[11];\\nx q0[12];\\nx q0[13];\\nx q0[14];\\nx q0[15];\\ncircuit_1032 q0[0],q0[1];\\ncircuit_1060 q0[2],q0[3];\\ncircuit_1088 q0[4],q0[5];\\ncircuit_1122 q0[6],q0[7];\\ncircuit_1150 q0[8],q0[9];\\ncircuit_1184 q0[10],q0[11];\\ncircuit_1212 q0[12],q0[13];\\ncircuit_1240 q0[14],q0[15];\\nmeasure q0[0] -> c0[0];\\nmeasure q0[1] -> c0[1];\\nmeasure q0[2] -> c0[2];\\nmeasure q0[3] -> c0[3];\\nmeasure q0[4] -> c0[4];\\nmeasure q0[5] -> c0[5];\\nmeasure q0[6] -> c0[6];\\nmeasure q0[7] -> c0[7];\\nmeasure q0[8] -> c0[8];\\nmeasure q0[9] -> c0[9];\\nmeasure q0[10] -> c0[10];\\nmeasure q0[11] -> c0[11];\\nmeasure q0[12] -> c0[12];\\nmeasure q0[13] -> c0[13];\\nmeasure q0[14] -> c0[14];\\nmeasure q0[15] -> c0[15];\\n')"
      ]
     },
     "execution_count": 19,
     "metadata": {},
     "output_type": "execute_result"
    }
   ],
   "source": [
    "from math import prod, sqrt\n",
    "from test_helpers import is_valid_sudoku_solution\n",
    "\n",
    "def main(request_payload = None, sudoku_board = None):\n",
    "    if sudoku_board is None:\n",
    "        sudoku_board = request_to_sudoku_board(request_payload)\n",
    "    candidates = get_candidates(sudoku_board)\n",
    "    edges = create_edges_from_sudoku_board(sudoku_board=sudoku_board)\n",
    "    qubit_registry = CubitRegisty(edges, sudoku_board, candidates)\n",
    "    qr = QuantumRegister(qubit_registry.total_qubit_count)\n",
    "    cr = ClassicalRegister(qubit_registry.value_qubit_count)\n",
    "    qc = QuantumCircuit(qr, cr)\n",
    "    \n",
    "    initialize_blanks(qc, qr, candidates, qubit_registry)\n",
    "    \n",
    "    grover_iterations = max(1, int(0.5 * sqrt(prod([len(c) for c in candidates]))))\n",
    "    print(f\"Grover Iterationen:      {grover_iterations}\")\n",
    "    for i in range(grover_iterations):\n",
    "        simple_oracle(qc, qr, edges, qubit_registry)\n",
    "        diffusor(qc, qr, candidates, qubit_registry)\n",
    "\n",
    "    qc.measure(\n",
    "        qr[qubit_registry.value_qubits[0] : qubit_registry.value_qubits[1] + 1],\n",
    "        cr[qubit_registry.value_qubits[0] : qubit_registry.value_qubits[1] + 1],\n",
    "    )\n",
    "    print(\"Simulation gestartet\")\n",
    "    start_time = process_time()\n",
    "    job = execute(qc, backend=AerSimulator(), shots=10000)\n",
    "    print(f\"Simulation dauerte       {process_time() - start_time} Sekunden\")\n",
    "    result = job.result()\n",
    "\n",
    "    solved_sudoku = fill_in_gaps(\n",
    "        sudoku_board,\n",
    "        parse_simulation_result(\n",
    "            result.get_counts(),\n",
    "            gap_count=sudoku_board.flatten().tolist().count(0),\n",
    "            qubit_registry=qubit_registry\n",
    "        ),\n",
    "    )\n",
    "    print(\"Gefundene Lösung:\\n\", solved_sudoku)\n",
    "    print(f\"Lösung korrekt?          {is_valid_sudoku_solution(solved_sudoku)}\")\n",
    "    return solved_sudoku, qc.qasm()\n",
    "\n",
    "\n",
    "# Funktionierende Sudokus\n",
    "# fmt: off\n",
    "# main(request_payload={\"size\":4,\"clues\":[{\"value\":4,\"x\":0,\"y\":0},{\"value\":2,\"x\":2,\"y\":0},{\"value\":1,\"x\":1,\"y\":1},{\"value\":4,\"x\":3,\"y\":1},{\"value\":1,\"x\":0,\"y\":2},{\"value\":4,\"x\":2,\"y\":2},{\"value\":4,\"x\":1,\"y\":3},{\"value\":2,\"x\":3,\"y\":3}]})\n",
    "# main(request_payload={\"size\": 4,\"clues\": [{\"value\": 3, \"x\": 3, \"y\": 0},{\"value\": 3, \"x\": 0, \"y\": 1},{\"value\": 2, \"x\": 1, \"y\": 1},{\"value\": 4, \"x\": 2, \"y\": 1},{\"value\": 4, \"x\": 1, \"y\": 2},{\"value\": 3, \"x\": 2, \"y\": 2},{\"value\": 2, \"x\": 3, \"y\": 2},{\"value\": 2, \"x\": 0, \"y\": 3}]})\n",
    "# main(request_payload={\"size\": 4,\"clues\": [{\"value\": 1, \"x\": 0, \"y\": 0},{\"value\": 4, \"x\": 0, \"y\": 1},{\"value\": 3, \"x\": 1, \"y\": 1},{\"value\": 2, \"x\": 0, \"y\": 2},{\"value\": 1, \"x\": 1, \"y\": 2},{\"value\": 4, \"x\": 2, \"y\": 2},{\"value\": 3, \"x\": 0, \"y\": 3},{\"value\": 4, \"x\": 1, \"y\": 3},{\"value\": 2, \"x\": 2, \"y\": 3},{\"value\": 1, \"x\": 3, \"y\": 3},]})\n",
    "# main(request_payload={\"size\":4,\"clues\":[{\"value\":3,\"x\":2,\"y\":0},{\"value\":4,\"x\":3,\"y\":0},{\"value\":4,\"x\":0,\"y\":1},{\"value\":1,\"x\":2,\"y\":1},{\"value\":2,\"x\":3,\"y\":1},{\"value\":1,\"x\":1,\"y\":2},{\"value\":4,\"x\":2,\"y\":2},{\"value\":2,\"x\":2,\"y\":3}]})\n",
    "# main(request_payload={\"size\":4,\"clues\":[{\"value\":3,\"x\":2,\"y\":0},{\"value\":4,\"x\":3,\"y\":0},{\"value\":4,\"x\":0,\"y\":1},{\"value\":2,\"x\":3,\"y\":1},{\"value\":1,\"x\":1,\"y\":2},{\"value\":4,\"x\":2,\"y\":2},{\"value\":2,\"x\":2,\"y\":3}]})\n",
    "# main(request_payload={\"size\":4,\"clues\":[{\"value\":4,\"x\":3,\"y\":0},{\"value\":4,\"x\":0,\"y\":1},{\"value\":2,\"x\":3,\"y\":1},{\"value\":1,\"x\":1,\"y\":2},{\"value\":4,\"x\":2,\"y\":2},{\"value\":3,\"x\":0,\"y\":3},{\"value\":2,\"x\":2,\"y\":3}]})\n",
    "# main(request_payload={\"size\": 4,\"clues\": [{\"value\": 4, \"x\": 0, \"y\": 1},{\"value\": 3, \"x\": 1, \"y\": 1},{\"value\": 2, \"x\": 0, \"y\": 2},{\"value\": 1, \"x\": 1, \"y\": 2},            {\"value\": 4, \"x\": 2, \"y\": 2},{\"value\": 3, \"x\": 0, \"y\": 3},{\"value\": 4, \"x\": 1, \"y\": 3},{\"value\": 2, \"x\": 2, \"y\": 3}]})\n",
    "# main(request_payload={\"size\":5,\"clues\":[{\"value\":5,\"x\":2,\"y\":0},{\"value\":4,\"x\":3,\"y\":0},{\"value\":3,\"x\":4,\"y\":0},{\"value\":3,\"x\":2,\"y\":1},{\"value\":5,\"x\":3,\"y\":1},{\"value\":4,\"x\":4,\"y\":1},{\"value\":5,\"x\":0,\"y\":2},{\"value\":3,\"x\":1,\"y\":2},{\"value\":4,\"x\":2,\"y\":2},{\"value\":1,\"x\":3,\"y\":2},{\"value\":2,\"x\":4,\"y\":2},{\"value\":4,\"x\":0,\"y\":3},{\"value\":5,\"x\":1,\"y\":3},{\"value\":2,\"x\":2,\"y\":3},{\"value\":3,\"x\":3,\"y\":3},{\"value\":1,\"x\":4,\"y\":3},{\"value\":3,\"x\":0,\"y\":4},{\"value\":4,\"x\":1,\"y\":4},{\"value\":1,\"x\":2,\"y\":4},{\"value\":2,\"x\":3,\"y\":4},{\"value\":5,\"x\":4,\"y\":4}]})\n",
    "# main(request_payload={\"size\":4,\"clues\":[{\"value\":1,\"x\":0,\"y\":0},{\"value\":2,\"x\":1,\"y\":0},{\"value\":3,\"x\":2,\"y\":0},{\"value\":4,\"x\":3,\"y\":0},{\"value\":3,\"x\":0,\"y\":1},{\"value\":4,\"x\":1,\"y\":1},{\"value\":1,\"x\":2,\"y\":1},{\"value\":2,\"x\":3,\"y\":1}]})\n",
    "# main(request_payload={\"size\":9,\"clues\":[{\"value\":9,\"x\":0,\"y\":0},{\"value\":8,\"x\":1,\"y\":0},{\"value\":5,\"x\":2,\"y\":0},{\"value\":4,\"x\":3,\"y\":0},{\"value\":2,\"x\":4,\"y\":0},{\"value\":1,\"x\":5,\"y\":0},{\"value\":7,\"x\":6,\"y\":0},{\"value\":3,\"x\":7,\"y\":0},{\"value\":6,\"x\":8,\"y\":0},{\"value\":7,\"x\":0,\"y\":1},{\"value\":2,\"x\":1,\"y\":1},{\"value\":4,\"x\":2,\"y\":1},{\"value\":6,\"x\":3,\"y\":1},{\"value\":3,\"x\":4,\"y\":1},{\"value\":8,\"x\":5,\"y\":1},{\"value\":5,\"x\":6,\"y\":1},{\"value\":1,\"x\":7,\"y\":1},{\"value\":9,\"x\":8,\"y\":1},{\"value\":1,\"x\":0,\"y\":2},{\"value\":3,\"x\":1,\"y\":2},{\"value\":6,\"x\":2,\"y\":2},{\"value\":9,\"x\":3,\"y\":2},{\"value\":5,\"x\":4,\"y\":2},{\"value\":7,\"x\":5,\"y\":2},{\"value\":8,\"x\":6,\"y\":2},{\"value\":4,\"x\":7,\"y\":2},{\"value\":2,\"x\":8,\"y\":2},{\"value\":6,\"x\":0,\"y\":3},{\"value\":7,\"x\":1,\"y\":3},{\"value\":3,\"x\":2,\"y\":3},{\"value\":1,\"x\":6,\"y\":3},{\"value\":9,\"x\":7,\"y\":3},{\"value\":8,\"x\":8,\"y\":3},{\"value\":4,\"x\":0,\"y\":4},{\"value\":1,\"x\":1,\"y\":4},{\"value\":2,\"x\":2,\"y\":4},{\"value\":8,\"x\":3,\"y\":4},{\"value\":7,\"x\":4,\"y\":4},{\"value\":9,\"x\":5,\"y\":4},{\"value\":6,\"x\":6,\"y\":4},{\"value\":5,\"x\":7,\"y\":4},{\"value\":3,\"x\":8,\"y\":4},{\"value\":5,\"x\":0,\"y\":5},{\"value\":9,\"x\":1,\"y\":5},{\"value\":8,\"x\":2,\"y\":5},{\"value\":1,\"x\":3,\"y\":5},{\"value\":6,\"x\":4,\"y\":5},{\"value\":3,\"x\":5,\"y\":5},{\"value\":4,\"x\":6,\"y\":5},{\"value\":2,\"x\":7,\"y\":5},{\"value\":7,\"x\":8,\"y\":5},{\"value\":3,\"x\":0,\"y\":6},{\"value\":6,\"x\":1,\"y\":6},{\"value\":7,\"x\":2,\"y\":6},{\"value\":2,\"x\":3,\"y\":6},{\"value\":1,\"x\":4,\"y\":6},{\"value\":5,\"x\":5,\"y\":6},{\"value\":9,\"x\":6,\"y\":6},{\"value\":8,\"x\":7,\"y\":6},{\"value\":4,\"x\":8,\"y\":6},{\"value\":8,\"x\":0,\"y\":7},{\"value\":4,\"x\":1,\"y\":7},{\"value\":1,\"x\":2,\"y\":7},{\"value\":3,\"x\":3,\"y\":7},{\"value\":9,\"x\":4,\"y\":7},{\"value\":6,\"x\":5,\"y\":7},{\"value\":2,\"x\":6,\"y\":7},{\"value\":7,\"x\":7,\"y\":7},{\"value\":5,\"x\":8,\"y\":7},{\"value\":2,\"x\":0,\"y\":8},{\"value\":5,\"x\":1,\"y\":8},{\"value\":9,\"x\":2,\"y\":8},{\"value\":7,\"x\":3,\"y\":8},{\"value\":8,\"x\":4,\"y\":8},{\"value\":4,\"x\":5,\"y\":8},{\"value\":3,\"x\":6,\"y\":8},{\"value\":6,\"x\":7,\"y\":8},{\"value\":1,\"x\":8,\"y\":8}]})\n",
    "# main(request_payload={\"size\":2,\"clues\":[{\"value\":2,\"x\":0,\"y\":0},{\"value\":1,\"x\":1,\"y\":0}]})"
   ]
  }
 ],
 "metadata": {
  "kernelspec": {
   "display_name": ".venv",
   "language": "python",
   "name": "python3"
  },
  "language_info": {
   "codemirror_mode": {
    "name": "ipython",
    "version": 3
   },
   "file_extension": ".py",
   "mimetype": "text/x-python",
   "name": "python",
   "nbconvert_exporter": "python",
   "pygments_lexer": "ipython3",
   "version": "3.8.10"
  },
  "vscode": {
   "interpreter": {
    "hash": "53e26017cbd081eea91e84ba4b58a0d805aa87fb43c8087faa2bfaad032eac4b"
   }
  }
 },
 "nbformat": 4,
 "nbformat_minor": 4
}
